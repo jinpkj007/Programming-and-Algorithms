{
 "cells": [
  {
   "cell_type": "code",
   "execution_count": 1,
   "metadata": {},
   "outputs": [],
   "source": [
    "#include <iostream>\n",
    "using namespace std;"
   ]
  },
  {
   "cell_type": "code",
   "execution_count": 2,
   "metadata": {},
   "outputs": [],
   "source": [
    "bool test_prime( int num_test)\n",
    "{\n",
    "    bool flag=1;  //assume the number to test is  prime\n",
    "     for (int j=2;j<num_test;j++)\n",
    "        {\n",
    "            if(num_test%j==0)\n",
    "                flag=0;   //divisible by any number means it is not a prime\n",
    "            \n",
    "        }\n",
    "    \n",
    "   return flag; \n",
    "}"
   ]
  },
  {
   "cell_type": "code",
   "execution_count": 3,
   "metadata": {},
   "outputs": [],
   "source": [
    "bool test_prime_method2( int num_test)\n",
    "{\n",
    "    bool flag=1;  //assume the number to test is  prime\n",
    "    if(num_test%2==0 || num_test%3==0) // reject 2 and 3 divisibile rightaway\n",
    "        flag=0;\n",
    "    else\n",
    "    {\n",
    "     for (int j=2;j*j<num_test;j++)  // need not check for all, upto sqrt(num) is enough to decide\n",
    "        {\n",
    "            if(num_test%j==0)\n",
    "                flag=0;   //divisible by any number means it is not a prime\n",
    "            \n",
    "        }\n",
    "    }\n",
    "   return flag; \n",
    "}"
   ]
  },
  {
   "cell_type": "code",
   "execution_count": 4,
   "metadata": {},
   "outputs": [],
   "source": [
    "void print_primes(int number)\n",
    "{    \n",
    "    if(number<1)\n",
    "        cout<<\"invalid case \\n\";\n",
    "    else if(number==1)\n",
    "        cout<<\"no prime number exists \\n\";\n",
    "    else if(number==2)\n",
    "        cout<<\"2\\n\";\n",
    "    else\n",
    "    {\n",
    "        for ( int i=2;i<=number; i++)\n",
    "        {\n",
    "        //int ans= test_prime(i);\n",
    "        int ans= test_prime_method2(i);\n",
    "            if(ans==1)\n",
    "                cout<<i<<\"\\n\";\n",
    "        }\n",
    "    }\n",
    "    \n",
    "    \n",
    "    \n",
    "}"
   ]
  },
  {
   "cell_type": "code",
   "execution_count": null,
   "metadata": {},
   "outputs": [],
   "source": []
  },
  {
   "cell_type": "code",
   "execution_count": 5,
   "metadata": {},
   "outputs": [],
   "source": [
    "int num;\n"
   ]
  },
  {
   "cell_type": "code",
   "execution_count": 6,
   "metadata": {},
   "outputs": [
    {
     "name": "stdout",
     "output_type": "stream",
     "text": [
      "Enter a positive number: 11\n",
      "5\n",
      "7\n",
      "11\n"
     ]
    }
   ],
   "source": [
    "cout << \"Enter a positive number: \";\n",
    "cin >> num;\n",
    "print_primes(num);\n",
    "\n",
    "\n",
    "    \n"
   ]
  },
  {
   "cell_type": "code",
   "execution_count": null,
   "metadata": {},
   "outputs": [],
   "source": [
    "\n",
    "    "
   ]
  },
  {
   "cell_type": "code",
   "execution_count": null,
   "metadata": {},
   "outputs": [],
   "source": [
    "\n",
    "    "
   ]
  },
  {
   "cell_type": "code",
   "execution_count": null,
   "metadata": {},
   "outputs": [],
   "source": []
  },
  {
   "cell_type": "code",
   "execution_count": null,
   "metadata": {},
   "outputs": [],
   "source": []
  }
 ],
 "metadata": {
  "kernelspec": {
   "display_name": "C++14",
   "language": "C++14",
   "name": "xcpp14"
  },
  "language_info": {
   "codemirror_mode": "text/x-c++src",
   "file_extension": ".cpp",
   "mimetype": "text/x-c++src",
   "name": "c++",
   "version": "-std=c++14"
  }
 },
 "nbformat": 4,
 "nbformat_minor": 2
}
