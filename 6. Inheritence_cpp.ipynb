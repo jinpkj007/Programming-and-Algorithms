{
 "cells": [
  {
   "cell_type": "code",
   "execution_count": 1,
   "metadata": {},
   "outputs": [],
   "source": [
    "\n",
    "using namespace std; \n",
    "#include <iostream>\n",
    "\n",
    "// Base class \n",
    "// Class A will be inherited \n",
    "class A { \n",
    "public: \n",
    "    int x;\n",
    "    void func()\n",
    "    {cout<<\"x\\n\" <<x << \"\\ny\"<<y;}\n",
    "\n",
    "protected: \n",
    "    int y; \n",
    "\n",
    "private: \n",
    "    int z; \n",
    "}; \n",
    "\n",
    "// Derived class \n",
    "// Class B will inherit Class A \n",
    "class B : public A { \n",
    "}; \n",
    "class C : private A { \n",
    "}; \n",
    "class D : protected A { \n",
    "};\n",
    "\n",
    "\n"
   ]
  },
  {
   "cell_type": "code",
   "execution_count": 2,
   "metadata": {},
   "outputs": [
    {
     "name": "stderr",
     "output_type": "stream",
     "text": [
      "\u001b[1minput_line_10:4:14: \u001b[0m\u001b[0;1;31merror: \u001b[0m\u001b[1m'y' is a protected member of 'A'\u001b[0m\n",
      "cout<<a.x<<a.y; \n",
      "\u001b[0;1;32m             ^\n",
      "\u001b[0m\u001b[1minput_line_9:9:9: \u001b[0m\u001b[0;1;30mnote: \u001b[0mdeclared protected here\u001b[0m\n",
      "    int y; \n",
      "\u001b[0;1;32m        ^\n",
      "\u001b[0m"
     ]
    },
    {
     "ename": "Interpreter Error",
     "evalue": "",
     "output_type": "error",
     "traceback": [
      "Interpreter Error: "
     ]
    }
   ],
   "source": [
    "// main function \n",
    "\n",
    "A a;\n",
    "\n",
    "\n",
    "\n",
    "cout<<a.x<<a.y; \n"
   ]
  },
  {
   "cell_type": "code",
   "execution_count": null,
   "metadata": {},
   "outputs": [],
   "source": [
    "A a;\n",
    "B b;\n",
    "C c;\n",
    "D d;\n",
    "\n",
    "cout << a.func() << endl;\n",
    "// x is public \n",
    "// so its value will be printed \n",
    "cout << a.x << endl; \n",
    "\n",
    "// y is protected \n",
    "// so it will give visibility error \n",
    "cout << a.y << endl; \n",
    "\n",
    "// z is not accessible from B \n",
    "// so it will give visibility error \n",
    "cout << a.z << endl;\n",
    "\n",
    "// x is public \n",
    "// so its value will be printed \n",
    "cout << b.x << endl; \n",
    "\n",
    "// y is protected \n",
    "// so it will give visibility error \n",
    "cout << b.y << endl; \n",
    "\n",
    "// z is not accessible from B \n",
    "// so it will give visibility error \n",
    "cout << b.z << endl; \n",
    "\n",
    "// x is public \n",
    "// so its value will be printed \n",
    "cout << c.x << endl; \n",
    "\n",
    "// y is protected \n",
    "// so it will give visibility error \n",
    "cout << c.y << endl; \n",
    "\n",
    "// z is not accessible from B \n",
    "// so it will give visibility error \n",
    "cout << c.z << endl; \n",
    "\n",
    "// x is public \n",
    "// so its value will be printed \n",
    "cout << d.x << endl; \n",
    "\n",
    "// y is protected \n",
    "// so it will give visibility error \n",
    "cout << d.y << endl; \n",
    "\n",
    "// z is not accessible from B \n",
    "// so it will give visibility error \n",
    "cout << d.z << endl; \n"
   ]
  },
  {
   "cell_type": "code",
   "execution_count": null,
   "metadata": {},
   "outputs": [],
   "source": []
  }
 ],
 "metadata": {
  "kernelspec": {
   "display_name": "C++14",
   "language": "C++14",
   "name": "xcpp14"
  },
  "language_info": {
   "codemirror_mode": "text/x-c++src",
   "file_extension": ".cpp",
   "mimetype": "text/x-c++src",
   "name": "c++",
   "version": "-std=c++14"
  }
 },
 "nbformat": 4,
 "nbformat_minor": 2
}
