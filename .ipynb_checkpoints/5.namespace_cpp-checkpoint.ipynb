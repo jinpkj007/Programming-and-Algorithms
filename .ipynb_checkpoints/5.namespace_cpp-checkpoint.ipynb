{
 "cells": [
  {
   "cell_type": "code",
   "execution_count": 1,
   "metadata": {},
   "outputs": [],
   "source": [
    "#include <iostream>\n",
    "using namespace std;"
   ]
  },
  {
   "cell_type": "code",
   "execution_count": 2,
   "metadata": {},
   "outputs": [],
   "source": [
    "class Complex\n",
    "{\n",
    "    private:\n",
    "    int a,b;\n",
    "    public:\n",
    "    void setdata(int x, int y)\n",
    "    {\n",
    "        a=x;\n",
    "        b=y;\n",
    "    }\n",
    "    void showdata()\n",
    "    {\n",
    "        cout<<\"a\"<<a<<\"b\"<<b;\n",
    "    }\n",
    "    friend void fun(Complex);\n",
    "   \n",
    "};\n"
   ]
  },
  {
   "cell_type": "code",
   "execution_count": 3,
   "metadata": {},
   "outputs": [],
   "source": [
    "void fun(Complex c)\n",
    "{\n",
    "    cout<<\"sum is \"<<c.a+c.b;\n",
    "}"
   ]
  },
  {
   "cell_type": "code",
   "execution_count": 4,
   "metadata": {},
   "outputs": [
    {
     "name": "stdout",
     "output_type": "stream",
     "text": [
      "sum is 30"
     ]
    }
   ],
   "source": [
    "//main function\n",
    "\n",
    "Complex c1,c2,c3;\n",
    "c1.setdata(10,20);\n",
    "fun(c1);"
   ]
  },
  {
   "cell_type": "code",
   "execution_count": null,
   "metadata": {},
   "outputs": [],
   "source": [
    "\n",
    "    "
   ]
  },
  {
   "cell_type": "code",
   "execution_count": null,
   "metadata": {},
   "outputs": [],
   "source": [
    "\n",
    "    "
   ]
  },
  {
   "cell_type": "code",
   "execution_count": null,
   "metadata": {},
   "outputs": [],
   "source": []
  },
  {
   "cell_type": "code",
   "execution_count": null,
   "metadata": {},
   "outputs": [],
   "source": []
  }
 ],
 "metadata": {
  "kernelspec": {
   "display_name": "C++14",
   "language": "C++14",
   "name": "xcpp14"
  },
  "language_info": {
   "codemirror_mode": "text/x-c++src",
   "file_extension": ".cpp",
   "mimetype": "text/x-c++src",
   "name": "c++",
   "version": "-std=c++14"
  }
 },
 "nbformat": 4,
 "nbformat_minor": 2
}
