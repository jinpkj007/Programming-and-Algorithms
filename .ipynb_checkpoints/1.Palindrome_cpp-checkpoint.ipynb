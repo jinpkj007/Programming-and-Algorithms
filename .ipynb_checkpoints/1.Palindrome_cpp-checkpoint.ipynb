{
 "cells": [
  {
   "cell_type": "code",
   "execution_count": 4,
   "metadata": {},
   "outputs": [],
   "source": [
    "#include <iostream>\n",
    "using namespace std;"
   ]
  },
  {
   "cell_type": "code",
   "execution_count": 5,
   "metadata": {},
   "outputs": [
    {
     "name": "stderr",
     "output_type": "stream",
     "text": [
      "\u001b[1minput_line_11:8:5: \u001b[0m\u001b[0;1;31merror: \u001b[0m\u001b[1muse of undeclared identifier 'last_dig'\u001b[0m\n",
      "    last_dig = divisor%10  //last digit of the number\n",
      "\u001b[0;1;32m    ^\n",
      "\u001b[0m"
     ]
    },
    {
     "ename": "Interpreter Error",
     "evalue": "",
     "output_type": "error",
     "traceback": [
      "Interpreter Error: "
     ]
    }
   ],
   "source": [
    "bool check_palindrome( int number)\n",
    "{    \n",
    "    //Trying to find the reverse of the number first\n",
    "    int rev = 0, ld, d, divisor, last_dig; \n",
    "    divisor = number;\n",
    "    while(divisor!=0)\n",
    "    {\n",
    "    last_dig = divisor%10  //last digit of the number\n",
    "    divisor= divisor/10\n",
    "    rev = rev*10 + last_digit  // 12321  last digit    rev=1, rev = 12, .....  \n",
    "    }\n",
    "    cout<< \"the reverse of the number is\" << rev;\n",
    "    if ( number == rev)\n",
    "        return true;\n",
    "    else\n",
    "        return false;\n",
    "}"
   ]
  },
  {
   "cell_type": "code",
   "execution_count": 2,
   "metadata": {},
   "outputs": [],
   "source": [
    "cout << \"Enter a positive number: \";\n",
    "cin >> num;\n",
    "return = check_palindrome(num)\n",
    "if (return == true)\n",
    "    cout << \" The number is a palindrome.\";\n",
    "else\n",
    "    cout << \" The number is not a palindrome.\";\n",
    "    \n"
   ]
  },
  {
   "cell_type": "code",
   "execution_count": 3,
   "metadata": {},
   "outputs": [],
   "source": []
  },
  {
   "cell_type": "code",
   "execution_count": 4,
   "metadata": {},
   "outputs": [
    {
     "name": "stdout",
     "output_type": "stream",
     "text": [
      "Sorted Array in Ascending Order:\n",
      "  -9  -2  0  11  45\n"
     ]
    }
   ],
   "source": []
  },
  {
   "cell_type": "code",
   "execution_count": null,
   "metadata": {},
   "outputs": [],
   "source": []
  },
  {
   "cell_type": "code",
   "execution_count": null,
   "metadata": {},
   "outputs": [],
   "source": []
  }
 ],
 "metadata": {
  "kernelspec": {
   "display_name": "C++14",
   "language": "C++14",
   "name": "xcpp14"
  },
  "language_info": {
   "codemirror_mode": "text/x-c++src",
   "file_extension": ".cpp",
   "mimetype": "text/x-c++src",
   "name": "c++",
   "version": "-std=c++14"
  }
 },
 "nbformat": 4,
 "nbformat_minor": 2
}
