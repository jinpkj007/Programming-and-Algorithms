{
 "cells": [
  {
   "cell_type": "code",
   "execution_count": 12,
   "metadata": {},
   "outputs": [],
   "source": [
    "def palindrome_check(num):\n",
    "    flag = (str(num) == str(num)[::-1])\n",
    "    return flag\n",
    "    "
   ]
  },
  {
   "cell_type": "code",
   "execution_count": 13,
   "metadata": {},
   "outputs": [
    {
     "name": "stdout",
     "output_type": "stream",
     "text": [
      "enter a positive number:1234567654321\n",
      "the number is a palindrome\n"
     ]
    }
   ],
   "source": [
    "num = input(\"enter a positive number:\")\n",
    "flag = palindrome_check(num)\n",
    "\n",
    "if flag == True:\n",
    "    print(\"the number is a palindrome\")\n",
    "else:\n",
    "    print(\"the number is not a palindrome\")\n",
    "     "
   ]
  },
  {
   "cell_type": "code",
   "execution_count": 14,
   "metadata": {},
   "outputs": [
    {
     "name": "stdout",
     "output_type": "stream",
     "text": [
      "enter a positive number:1234231\n",
      "the number is not a palindrome\n"
     ]
    }
   ],
   "source": [
    "num = input(\"enter a positive number:\")\n",
    "flag = palindrome_check(num)\n",
    "\n",
    "if flag == True:\n",
    "    print(\"the number is a palindrome\")\n",
    "else:\n",
    "    print(\"the number is not a palindrome\")"
   ]
  }
 ],
 "metadata": {
  "kernelspec": {
   "display_name": "Python 3",
   "language": "python",
   "name": "python3"
  },
  "language_info": {
   "codemirror_mode": {
    "name": "ipython",
    "version": 3
   },
   "file_extension": ".py",
   "mimetype": "text/x-python",
   "name": "python",
   "nbconvert_exporter": "python",
   "pygments_lexer": "ipython3",
   "version": "3.7.3"
  }
 },
 "nbformat": 4,
 "nbformat_minor": 2
}
