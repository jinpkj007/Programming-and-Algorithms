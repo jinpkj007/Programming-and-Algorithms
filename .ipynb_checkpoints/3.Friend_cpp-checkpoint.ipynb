{
 "cells": [
  {
   "cell_type": "code",
   "execution_count": 1,
   "metadata": {},
   "outputs": [],
   "source": [
    "#include <iostream>\n",
    "using namespace std;"
   ]
  },
  {
   "cell_type": "code",
   "execution_count": 2,
   "metadata": {},
   "outputs": [],
   "source": [
    "class Complex\n",
    "{\n",
    "    private:\n",
    "    int a,b;\n",
    "    public:\n",
    "    void setdata(int x, int y)\n",
    "    {a=x;b=y;}\n",
    "    void showdata()\n",
    "    {cout<<\"a\"<<a<<\"b\"<<b;}\n",
    "    friend\n",
    "   \n",
    "};\n"
   ]
  },
  {
   "cell_type": "code",
   "execution_count": 3,
   "metadata": {},
   "outputs": [],
   "source": [
    "int num;\n",
    "bool test;"
   ]
  },
  {
   "cell_type": "code",
   "execution_count": 4,
   "metadata": {},
   "outputs": [
    {
     "name": "stdout",
     "output_type": "stream",
     "text": [
      "Enter a positive number: 123454321\n",
      "the reverse of the number is 123454321 The number is a palindrome."
     ]
    }
   ],
   "source": [
    "cout << \"Enter a positive number: \";\n",
    "cin >> num;\n",
    "test = check_palindrome(num);\n",
    "if (test == true)\n",
    "    cout << \" The number is a palindrome.\";\n",
    "else\n",
    "    cout << \" The number is not a palindrome.\";\n",
    "    \n"
   ]
  },
  {
   "cell_type": "code",
   "execution_count": 5,
   "metadata": {},
   "outputs": [
    {
     "name": "stdout",
     "output_type": "stream",
     "text": [
      "Enter a positive number: 123321\n",
      "the reverse of the number is 123321 The number is a palindrome."
     ]
    }
   ],
   "source": [
    "cout << \"Enter a positive number: \";\n",
    "cin >> num;\n",
    "test = check_palindrome(num);\n",
    "if (test == true)\n",
    "    cout << \" The number is a palindrome.\";\n",
    "else\n",
    "    cout << \" The number is not a palindrome.\";\n",
    "    "
   ]
  },
  {
   "cell_type": "code",
   "execution_count": 6,
   "metadata": {},
   "outputs": [
    {
     "name": "stdout",
     "output_type": "stream",
     "text": [
      "Enter a positive number: 1234531\n",
      "the reverse of the number is 1354321 The number is not a palindrome."
     ]
    }
   ],
   "source": [
    "cout << \"Enter a positive number: \";\n",
    "cin >> num;\n",
    "test = check_palindrome(num);\n",
    "if (test == true)\n",
    "    cout << \" The number is a palindrome.\";\n",
    "else\n",
    "    cout << \" The number is not a palindrome.\";\n",
    "    "
   ]
  },
  {
   "cell_type": "code",
   "execution_count": null,
   "metadata": {},
   "outputs": [],
   "source": []
  },
  {
   "cell_type": "code",
   "execution_count": null,
   "metadata": {},
   "outputs": [],
   "source": []
  }
 ],
 "metadata": {
  "kernelspec": {
   "display_name": "C++14",
   "language": "C++14",
   "name": "xcpp14"
  },
  "language_info": {
   "codemirror_mode": "text/x-c++src",
   "file_extension": ".cpp",
   "mimetype": "text/x-c++src",
   "name": "c++",
   "version": "-std=c++14"
  }
 },
 "nbformat": 4,
 "nbformat_minor": 2
}
