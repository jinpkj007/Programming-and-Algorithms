{
 "cells": [
  {
   "cell_type": "code",
   "execution_count": 1,
   "metadata": {},
   "outputs": [],
   "source": [
    "#include <iostream> \n",
    "using namespace std; \n",
    "class Base {\n",
    "   protected : \n",
    "   int num = 7;    \n",
    "};\n",
    "class Derived : public Base { \n",
    "   public :\n",
    "   void func() {\n",
    "      cout << \"The value of num is: \" << num;\n",
    "   }\n",
    "};\n",
    "\n",
    "  \n",
    "   \n"
   ]
  },
  {
   "cell_type": "code",
   "execution_count": 3,
   "metadata": {},
   "outputs": [
    {
     "name": "stderr",
     "output_type": "stream",
     "text": [
      "\u001b[1minput_line_10:3:12: \u001b[0m\u001b[0;1;31merror: \u001b[0m\u001b[1m'num' is a protected member of 'Base'\u001b[0m\n",
      " cout<<obj.num; \n",
      "\u001b[0;1;32m           ^\n",
      "\u001b[0m\u001b[1minput_line_8:5:8: \u001b[0m\u001b[0;1;30mnote: \u001b[0mdeclared protected here\u001b[0m\n",
      "   int num = 7;    \n",
      "\u001b[0;1;32m       ^\n",
      "\u001b[0m"
     ]
    },
    {
     "ename": "Interpreter Error",
     "evalue": "",
     "output_type": "error",
     "traceback": [
      "Interpreter Error: "
     ]
    }
   ],
   "source": [
    " Derived obj;\n",
    " cout<<obj.num; "
   ]
  },
  {
   "cell_type": "code",
   "execution_count": null,
   "metadata": {},
   "outputs": [],
   "source": []
  }
 ],
 "metadata": {
  "kernelspec": {
   "display_name": "C++14",
   "language": "C++14",
   "name": "xcpp14"
  },
  "language_info": {
   "codemirror_mode": "text/x-c++src",
   "file_extension": ".cpp",
   "mimetype": "text/x-c++src",
   "name": "c++",
   "version": "-std=c++14"
  }
 },
 "nbformat": 4,
 "nbformat_minor": 2
}
