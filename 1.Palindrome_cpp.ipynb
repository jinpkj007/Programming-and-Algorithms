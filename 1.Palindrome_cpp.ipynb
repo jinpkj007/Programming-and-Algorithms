{
 "cells": [
  {
   "cell_type": "code",
   "execution_count": 1,
   "metadata": {},
   "outputs": [],
   "source": [
    "#include <iostream>\n",
    "using namespace std;"
   ]
  },
  {
   "cell_type": "code",
   "execution_count": 2,
   "metadata": {},
   "outputs": [],
   "source": [
    "bool check_palindrome(int number)\n",
    "{    \n",
    "    //Trying to find the reverse of the number first\n",
    "    int rev = 0,divisor, ld; \n",
    "  \n",
    "    divisor = number;\n",
    "    while(divisor!=0)\n",
    "    {\n",
    "    ld = divisor%10;  //last digit of the number\n",
    "    divisor= divisor/10;\n",
    "    rev = rev*10 + ld;  // 12321  last digit    rev=1, rev = 12, .....  \n",
    "    }\n",
    "    cout<< \"the reverse of the number is \" << rev;\n",
    "    if ( number == rev)\n",
    "        return true;\n",
    "    else\n",
    "        return false;\n",
    "}"
   ]
  },
  {
   "cell_type": "code",
   "execution_count": 3,
   "metadata": {},
   "outputs": [],
   "source": [
    "int num;\n",
    "bool test;"
   ]
  },
  {
   "cell_type": "code",
   "execution_count": 4,
   "metadata": {},
   "outputs": [
    {
     "name": "stdout",
     "output_type": "stream",
     "text": [
      "Enter a positive number: 123454321\n",
      "the reverse of the number is 123454321 The number is a palindrome."
     ]
    }
   ],
   "source": [
    "cout << \"Enter a positive number: \";\n",
    "cin >> num;\n",
    "test = check_palindrome(num);\n",
    "if (test == true)\n",
    "    cout << \" The number is a palindrome.\";\n",
    "else\n",
    "    cout << \" The number is not a palindrome.\";\n",
    "    \n"
   ]
  },
  {
   "cell_type": "code",
   "execution_count": 5,
   "metadata": {},
   "outputs": [
    {
     "name": "stdout",
     "output_type": "stream",
     "text": [
      "Enter a positive number: 123321\n",
      "the reverse of the number is 123321 The number is a palindrome."
     ]
    }
   ],
   "source": [
    "cout << \"Enter a positive number: \";\n",
    "cin >> num;\n",
    "test = check_palindrome(num);\n",
    "if (test == true)\n",
    "    cout << \" The number is a palindrome.\";\n",
    "else\n",
    "    cout << \" The number is not a palindrome.\";\n",
    "    "
   ]
  },
  {
   "cell_type": "code",
   "execution_count": 6,
   "metadata": {},
   "outputs": [
    {
     "name": "stdout",
     "output_type": "stream",
     "text": [
      "Enter a positive number: 1234531\n",
      "the reverse of the number is 1354321 The number is not a palindrome."
     ]
    }
   ],
   "source": [
    "cout << \"Enter a positive number: \";\n",
    "cin >> num;\n",
    "test = check_palindrome(num);\n",
    "if (test == true)\n",
    "    cout << \" The number is a palindrome.\";\n",
    "else\n",
    "    cout << \" The number is not a palindrome.\";\n",
    "    "
   ]
  },
  {
   "cell_type": "code",
   "execution_count": null,
   "metadata": {},
   "outputs": [],
   "source": []
  },
  {
   "cell_type": "code",
   "execution_count": null,
   "metadata": {},
   "outputs": [],
   "source": []
  }
 ],
 "metadata": {
  "kernelspec": {
   "display_name": "C++14",
   "language": "C++14",
   "name": "xcpp14"
  },
  "language_info": {
   "codemirror_mode": "text/x-c++src",
   "file_extension": ".cpp",
   "mimetype": "text/x-c++src",
   "name": "c++",
   "version": "-std=c++14"
  }
 },
 "nbformat": 4,
 "nbformat_minor": 2
}
